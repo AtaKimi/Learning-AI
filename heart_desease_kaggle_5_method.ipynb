{
  "nbformat": 4,
  "nbformat_minor": 0,
  "metadata": {
    "colab": {
      "provenance": []
    },
    "kernelspec": {
      "name": "python3",
      "display_name": "Python 3"
    },
    "language_info": {
      "name": "python"
    }
  },
  "cells": [
    {
      "cell_type": "markdown",
      "metadata": {
        "id": "58eca891"
      },
      "source": [
        "To use the Kaggle API, you need to install the `kaggle` library and configure your API credentials.\n",
        "\n",
        "1.  **Install the `kaggle` library**:"
      ]
    },
    {
      "cell_type": "code",
      "metadata": {
        "colab": {
          "base_uri": "https://localhost:8080/"
        },
        "id": "60457987",
        "outputId": "afa69347-0bd6-4617-d035-026b53c18c32"
      },
      "source": [
        "!pip install kaggle"
      ],
      "execution_count": null,
      "outputs": [
        {
          "output_type": "stream",
          "name": "stdout",
          "text": [
            "Requirement already satisfied: kaggle in /usr/local/lib/python3.11/dist-packages (1.7.4.5)\n",
            "Requirement already satisfied: bleach in /usr/local/lib/python3.11/dist-packages (from kaggle) (6.2.0)\n",
            "Requirement already satisfied: certifi>=14.05.14 in /usr/local/lib/python3.11/dist-packages (from kaggle) (2025.7.14)\n",
            "Requirement already satisfied: charset-normalizer in /usr/local/lib/python3.11/dist-packages (from kaggle) (3.4.2)\n",
            "Requirement already satisfied: idna in /usr/local/lib/python3.11/dist-packages (from kaggle) (3.10)\n",
            "Requirement already satisfied: protobuf in /usr/local/lib/python3.11/dist-packages (from kaggle) (5.29.5)\n",
            "Requirement already satisfied: python-dateutil>=2.5.3 in /usr/local/lib/python3.11/dist-packages (from kaggle) (2.9.0.post0)\n",
            "Requirement already satisfied: python-slugify in /usr/local/lib/python3.11/dist-packages (from kaggle) (8.0.4)\n",
            "Requirement already satisfied: requests in /usr/local/lib/python3.11/dist-packages (from kaggle) (2.32.3)\n",
            "Requirement already satisfied: setuptools>=21.0.0 in /usr/local/lib/python3.11/dist-packages (from kaggle) (75.2.0)\n",
            "Requirement already satisfied: six>=1.10 in /usr/local/lib/python3.11/dist-packages (from kaggle) (1.17.0)\n",
            "Requirement already satisfied: text-unidecode in /usr/local/lib/python3.11/dist-packages (from kaggle) (1.3)\n",
            "Requirement already satisfied: tqdm in /usr/local/lib/python3.11/dist-packages (from kaggle) (4.67.1)\n",
            "Requirement already satisfied: urllib3>=1.15.1 in /usr/local/lib/python3.11/dist-packages (from kaggle) (2.5.0)\n",
            "Requirement already satisfied: webencodings in /usr/local/lib/python3.11/dist-packages (from kaggle) (0.5.1)\n"
          ]
        }
      ]
    },
    {
      "cell_type": "markdown",
      "metadata": {
        "id": "cb536aa6"
      },
      "source": [
        "2.  **Obtain your Kaggle API credentials**:\n",
        "    *   Go to your Kaggle account page (`https://www.kaggle.com/<your-username>/account`).\n",
        "    *   Under the \"API\" section, click \"Create New API Token\". This will download a `kaggle.json` file containing your username and API key.\n",
        "\n",
        "3.  **Upload your `kaggle.json` file to Colab**:\n",
        "    *   In the Colab file explorer (folder icon on the left sidebar), click the \"Upload to session storage\" icon.\n",
        "    *   Upload the `kaggle.json` file you downloaded.\n",
        "\n",
        "4.  **Load your credentials**:\n",
        "    *   Run the following code to load your API key and set up the necessary environment variables."
      ]
    },
    {
      "cell_type": "code",
      "metadata": {
        "id": "6a3dd591"
      },
      "source": [
        "import os\n",
        "from google.colab import files\n",
        "\n",
        "# If you haven't uploaded kaggle.json yet, run this cell to upload it\n",
        "if not os.path.exists(\"/root/.kaggle/kaggle.json\"):\n",
        "    os.makedirs(\"/root/.kaggle\", exist_ok=True)\n",
        "    uploaded = files.upload()\n",
        "    for name, data in uploaded.items():\n",
        "        with open(\"/root/.kaggle/kaggle.json\", \"wb\") as f:\n",
        "            f.write(data)\n",
        "    os.chmod(\"/root/.kaggle/kaggle.json\", 600)"
      ],
      "execution_count": null,
      "outputs": []
    },
    {
      "cell_type": "code",
      "source": [
        "import kagglehub\n",
        "\n",
        "# Download latest version\n",
        "path = kagglehub.dataset_download(\"redwankarimsony/heart-disease-data\")\n",
        "\n",
        "print(\"Path to dataset files:\", path)"
      ],
      "metadata": {
        "colab": {
          "base_uri": "https://localhost:8080/"
        },
        "id": "DFudeWNeW4tc",
        "outputId": "fd525f1f-4edd-4ac3-9d06-02af7775558c"
      },
      "execution_count": null,
      "outputs": [
        {
          "output_type": "stream",
          "name": "stdout",
          "text": [
            "Path to dataset files: /kaggle/input/heart-disease-data\n"
          ]
        }
      ]
    },
    {
      "cell_type": "code",
      "source": [
        "import pandas as pd\n",
        "import os\n",
        "\n",
        "# The path variable from the previous cell contains the directory where the dataset was downloaded\n",
        "dataset_path = path\n",
        "\n",
        "# Assuming the dataset is in a CSV file within the downloaded directory,\n",
        "# we need to find the CSV file.\n",
        "# You might need to adjust the filename if it's different.\n",
        "csv_files = [f for f in os.listdir(dataset_path) if f.endswith('.csv')]\n",
        "\n",
        "if csv_files:\n",
        "    # Assuming the first CSV file is the one you want to load\n",
        "    dataset_file = os.path.join(dataset_path, csv_files[0])\n",
        "\n",
        "    # Load the dataset into a pandas DataFrame\n",
        "    df = pd.read_csv(dataset_file)\n",
        "\n",
        "    # Display the column headers\n",
        "    print(\"Column Headers:\")\n",
        "    print(df.columns.tolist())\n",
        "\n",
        "    # Print the first few rows of the DataFrame\n",
        "    print(\"\\nFirst 5 rows of the dataset:\")\n",
        "    print(df.head())\n",
        "\n",
        "else:\n",
        "    print(\"No CSV files found in the dataset directory.\")"
      ],
      "metadata": {
        "colab": {
          "base_uri": "https://localhost:8080/"
        },
        "id": "IFbqP9JGYWoa",
        "outputId": "7187f007-a931-461d-e7a4-9aba4ffa626e"
      },
      "execution_count": null,
      "outputs": [
        {
          "output_type": "stream",
          "name": "stdout",
          "text": [
            "Column Headers:\n",
            "['id', 'age', 'sex', 'dataset', 'cp', 'trestbps', 'chol', 'fbs', 'restecg', 'thalch', 'exang', 'oldpeak', 'slope', 'ca', 'thal', 'num']\n",
            "\n",
            "First 5 rows of the dataset:\n",
            "   id  age     sex    dataset               cp  trestbps   chol    fbs  \\\n",
            "0   1   63    Male  Cleveland   typical angina     145.0  233.0   True   \n",
            "1   2   67    Male  Cleveland     asymptomatic     160.0  286.0  False   \n",
            "2   3   67    Male  Cleveland     asymptomatic     120.0  229.0  False   \n",
            "3   4   37    Male  Cleveland      non-anginal     130.0  250.0  False   \n",
            "4   5   41  Female  Cleveland  atypical angina     130.0  204.0  False   \n",
            "\n",
            "          restecg  thalch  exang  oldpeak        slope   ca  \\\n",
            "0  lv hypertrophy   150.0  False      2.3  downsloping  0.0   \n",
            "1  lv hypertrophy   108.0   True      1.5         flat  3.0   \n",
            "2  lv hypertrophy   129.0   True      2.6         flat  2.0   \n",
            "3          normal   187.0  False      3.5  downsloping  0.0   \n",
            "4  lv hypertrophy   172.0  False      1.4    upsloping  0.0   \n",
            "\n",
            "                thal  num  \n",
            "0       fixed defect    0  \n",
            "1             normal    2  \n",
            "2  reversable defect    1  \n",
            "3             normal    0  \n",
            "4             normal    0  \n"
          ]
        }
      ]
    },
    {
      "cell_type": "markdown",
      "metadata": {
        "id": "f2368497"
      },
      "source": [
        "After completing these steps, you should be able to use the `kagglehub` or `kaggle` library to download datasets as you've attempted in your code."
      ]
    },
    {
      "cell_type": "code",
      "source": [
        "print(\"Shape of X_train:\", X_train.shape)\n",
        "print(\"Shape of X_test:\", X_test.shape)\n",
        "print(\"Shape of y_train:\", y_train.shape)\n",
        "print(\"Shape of y_test:\", y_test.shape)"
      ],
      "metadata": {
        "colab": {
          "base_uri": "https://localhost:8080/"
        },
        "id": "iVCLnWJMZSDI",
        "outputId": "aa17ba41-14ab-4af6-bf8e-4b2f2801e35a"
      },
      "execution_count": null,
      "outputs": [
        {
          "output_type": "stream",
          "name": "stdout",
          "text": [
            "Shape of X_train: (644, 25)\n",
            "Shape of X_test: (276, 25)\n",
            "Shape of y_train: (644,)\n",
            "Shape of y_test: (276,)\n"
          ]
        }
      ]
    },
    {
      "cell_type": "code",
      "execution_count": null,
      "metadata": {
        "colab": {
          "base_uri": "https://localhost:8080/"
        },
        "id": "Mn0YRlEtVibq",
        "outputId": "2c9b2ab3-71c3-419a-f094-dd2d15fe5c79"
      },
      "outputs": [
        {
          "output_type": "stream",
          "name": "stdout",
          "text": [
            "Evaluating with Threshold: 0.25\n",
            "Accuracy: 0.8152173913043478\n",
            "Confusion Matrix:\n",
            "[[ 79  41]\n",
            " [ 10 146]]\n",
            "\n",
            "Classification Report:\n",
            "              precision    recall  f1-score   support\n",
            "\n",
            "           0       0.89      0.66      0.76       120\n",
            "           1       0.78      0.94      0.85       156\n",
            "\n",
            "    accuracy                           0.82       276\n",
            "   macro avg       0.83      0.80      0.80       276\n",
            "weighted avg       0.83      0.82      0.81       276\n",
            "\n"
          ]
        }
      ],
      "source": [
        "# Import necessary libraries\n",
        "import pandas as pd\n",
        "from sklearn.model_selection import train_test_split\n",
        "from sklearn.linear_model import LogisticRegression\n",
        "from sklearn.metrics import accuracy_score, classification_report, confusion_matrix # Import confusion_matrix and classification_report\n",
        "from sklearn.preprocessing import StandardScaler\n",
        "import numpy as np # Import numpy\n",
        "\n",
        "# --- Data Loading (Assuming df is already loaded from previous cells) ---\n",
        "# Make sure the DataFrame 'df' from the previous cell is available\n",
        "if 'df' not in locals():\n",
        "    print(\"Error: DataFrame 'df' not found. Please run the data loading cells first.\")\n",
        "else:\n",
        "    # --- Prepare data for Logistic Regression ---\n",
        "    # Use all columns except 'id', 'dataset', and 'num' as features\n",
        "    features = ['age', 'sex', 'cp', 'trestbps', 'chol', 'fbs', 'restecg', 'thalch', 'exang', 'oldpeak', 'slope', 'ca', 'thal']\n",
        "    X = df[features].copy()\n",
        "\n",
        "    # Define the target variable 'num' and convert it to a binary classification\n",
        "    # 0 for no disease, 1 for disease (num > 0)\n",
        "    y = df['num'].apply(lambda x: 1 if x > 0 else 0)\n",
        "\n",
        "    # Handle potential missing values in numerical features (simple imputation with mean)\n",
        "    numerical_cols = X.select_dtypes(include=['number']).columns.tolist()\n",
        "    X[numerical_cols] = X[numerical_cols].fillna(X[numerical_cols].mean())\n",
        "\n",
        "    # Handle categorical features using one-hot encoding\n",
        "    categorical_cols = X.select_dtypes(include=['object', 'category']).columns.tolist()\n",
        "    X = pd.get_dummies(X, columns=categorical_cols)\n",
        "\n",
        "    # --- Scale Numerical Features ---\n",
        "    all_cols = X.columns.tolist()\n",
        "    scaled_cols = [col for col in all_cols if col not in [f for f in features if f in categorical_cols]]\n",
        "\n",
        "    scaler = StandardScaler()\n",
        "    X[scaled_cols] = scaler.fit_transform(X[scaled_cols])\n",
        "\n",
        "\n",
        "    # Split data into training and testing sets (using the previously used 90/10 split)\n",
        "    X_train, X_test, y_train, y_test = train_test_split(X, y, test_size=0.3, random_state=42)\n",
        "\n",
        "\n",
        "    # --- Logistic Regression Model ---\n",
        "    # Initialize the Logistic Regression model\n",
        "    model = LogisticRegression(max_iter=10000)\n",
        "\n",
        "    # Train the model\n",
        "    model.fit(X_train, y_train)\n",
        "\n",
        "    # --- Adjust Classification Threshold ---\n",
        "    # Get the probability of the positive class (class 1)\n",
        "    y_pred_proba = model.predict_proba(X_test)[:, 1]\n",
        "\n",
        "    # Define a custom threshold (e.g., 0.4 instead of the default 0.5)\n",
        "    # You can experiment with different threshold values\n",
        "    custom_threshold = 0.25\n",
        "\n",
        "    # Make predictions based on the custom threshold\n",
        "    y_pred_threshold = (y_pred_proba >= custom_threshold).astype(int)\n",
        "\n",
        "\n",
        "    # Evaluate the model with the adjusted threshold\n",
        "    print(f\"Evaluating with Threshold: {custom_threshold}\")\n",
        "    accuracy_threshold = accuracy_score(y_test, y_pred_threshold)\n",
        "    print(f\"Accuracy: {accuracy_threshold}\")\n",
        "\n",
        "    print(\"Confusion Matrix:\")\n",
        "    print(confusion_matrix(y_test, y_pred_threshold))\n",
        "    print(\"\\nClassification Report:\")\n",
        "    print(classification_report(y_test, y_pred_threshold))\n",
        "\n",
        "    # You can compare these results to the previous output (with the default threshold)\n",
        "    # to see how the False Negatives have changed."
      ]
    },
    {
      "cell_type": "code",
      "metadata": {
        "colab": {
          "base_uri": "https://localhost:8080/"
        },
        "id": "757e4cc5",
        "outputId": "63bfb3bc-5078-47e9-e0ca-6583bcfce17a"
      },
      "source": [
        "# Import the RandomForestClassifier\n",
        "from sklearn.ensemble import RandomForestClassifier\n",
        "from sklearn.metrics import accuracy_score, classification_report, confusion_matrix\n",
        "import numpy as np # Import numpy\n",
        "\n",
        "# --- RandomForestClassifier Model ---\n",
        "# Initialize the RandomForestClassifier model\n",
        "# You can adjust parameters like n_estimators, max_depth, etc.\n",
        "rf_model = RandomForestClassifier(n_estimators=100, random_state=42)\n",
        "\n",
        "# Train the model\n",
        "rf_model.fit(X_train, y_train)\n",
        "\n",
        "# --- Adjust Classification Threshold ---\n",
        "# Get the probability of the positive class (class 1)\n",
        "y_pred_proba_rf = rf_model.predict_proba(X_test)[:, 1]\n",
        "\n",
        "# Define a custom threshold (e.g., 0.4 instead of the default 0.5)\n",
        "# You can experiment with different threshold values\n",
        "custom_threshold_rf = 0.4\n",
        "\n",
        "# Make predictions based on the custom threshold\n",
        "y_pred_threshold_rf = (y_pred_proba_rf >= custom_threshold_rf).astype(int)\n",
        "\n",
        "# Evaluate the model with the adjusted threshold\n",
        "print(f\"--- RandomForestClassifier Evaluation with Threshold: {custom_threshold_rf} ---\")\n",
        "accuracy_rf_threshold = accuracy_score(y_test, y_pred_threshold_rf)\n",
        "print(f\"Accuracy: {accuracy_rf_threshold}\")\n",
        "\n",
        "print(\"\\nConfusion Matrix:\")\n",
        "print(confusion_matrix(y_test, y_pred_threshold_rf))\n",
        "\n",
        "print(\"\\nClassification Report:\")\n",
        "print(classification_report(y_test, y_pred_threshold_rf))\n",
        "\n",
        "# You can compare these results to the previous output (with the default threshold)\n",
        "# to see how the False Negatives have changed."
      ],
      "execution_count": null,
      "outputs": [
        {
          "output_type": "stream",
          "name": "stdout",
          "text": [
            "--- RandomForestClassifier Evaluation with Threshold: 0.4 ---\n",
            "Accuracy: 0.8442028985507246\n",
            "\n",
            "Confusion Matrix:\n",
            "[[ 91  29]\n",
            " [ 14 142]]\n",
            "\n",
            "Classification Report:\n",
            "              precision    recall  f1-score   support\n",
            "\n",
            "           0       0.87      0.76      0.81       120\n",
            "           1       0.83      0.91      0.87       156\n",
            "\n",
            "    accuracy                           0.84       276\n",
            "   macro avg       0.85      0.83      0.84       276\n",
            "weighted avg       0.85      0.84      0.84       276\n",
            "\n"
          ]
        }
      ]
    },
    {
      "cell_type": "code",
      "source": [
        "# Import the Support Vector Classifier\n",
        "from sklearn.svm import SVC\n",
        "from sklearn.metrics import accuracy_score, classification_report, confusion_matrix\n",
        "import numpy as np # Import numpy\n",
        "\n",
        "# --- Support Vector Machine (SVM) Model ---\n",
        "# Initialize the SVC model\n",
        "# You can adjust parameters like kernel, C, gamma, etc.\n",
        "svm_model = SVC(probability=True, random_state=42) # probability=True allows predict_proba if needed later\n",
        "\n",
        "# Train the model\n",
        "svm_model.fit(X_train, y_train)\n",
        "\n",
        "# --- Adjust Classification Threshold ---\n",
        "# Get the probability of the positive class (class 1)\n",
        "# Note: SVC with probability=True can be slower\n",
        "y_pred_proba_svm = svm_model.predict_proba(X_test)[:, 1]\n",
        "\n",
        "# Define a custom threshold (e.g., 0.4 instead of the default 0.5)\n",
        "# You can experiment with different threshold values\n",
        "custom_threshold_svm = 0.3\n",
        "\n",
        "# Make predictions based on the custom threshold\n",
        "y_pred_threshold_svm = (y_pred_proba_svm >= custom_threshold_svm).astype(int)\n",
        "\n",
        "# Evaluate the model with the adjusted threshold\n",
        "print(f\"--- Support Vector Machine (SVM) Evaluation with Threshold: {custom_threshold_svm} ---\")\n",
        "accuracy_svm_threshold = accuracy_score(y_test, y_pred_threshold_svm)\n",
        "print(f\"Accuracy: {accuracy_svm_threshold}\")\n",
        "\n",
        "print(\"\\nConfusion Matrix:\")\n",
        "print(confusion_matrix(y_test, y_pred_threshold_svm))\n",
        "\n",
        "print(\"\\nClassification Report:\")\n",
        "print(classification_report(y_test, y_pred_threshold_svm))\n",
        "\n",
        "# You can compare these results to the previous output (with the default threshold)\n",
        "# to see how the False Negatives have changed."
      ],
      "metadata": {
        "colab": {
          "base_uri": "https://localhost:8080/"
        },
        "id": "vT_BYMRahb5d",
        "outputId": "eaf1cb31-a632-4002-e909-ee358632380d"
      },
      "execution_count": null,
      "outputs": [
        {
          "output_type": "stream",
          "name": "stdout",
          "text": [
            "--- Support Vector Machine (SVM) Evaluation with Threshold: 0.3 ---\n",
            "Accuracy: 0.8369565217391305\n",
            "\n",
            "Confusion Matrix:\n",
            "[[ 86  34]\n",
            " [ 11 145]]\n",
            "\n",
            "Classification Report:\n",
            "              precision    recall  f1-score   support\n",
            "\n",
            "           0       0.89      0.72      0.79       120\n",
            "           1       0.81      0.93      0.87       156\n",
            "\n",
            "    accuracy                           0.84       276\n",
            "   macro avg       0.85      0.82      0.83       276\n",
            "weighted avg       0.84      0.84      0.83       276\n",
            "\n"
          ]
        }
      ]
    },
    {
      "cell_type": "code",
      "metadata": {
        "colab": {
          "base_uri": "https://localhost:8080/"
        },
        "id": "3b19be40",
        "outputId": "02b9dae0-d86c-4601-e416-97587d590295"
      },
      "source": [
        "# Import the K-Nearest Neighbors Classifier\n",
        "from sklearn.neighbors import KNeighborsClassifier\n",
        "from sklearn.metrics import accuracy_score, classification_report, confusion_matrix\n",
        "import numpy as np # Import numpy for thresholding\n",
        "\n",
        "# --- K-Nearest Neighbors (KNN) Model ---\n",
        "# Initialize the KNN model\n",
        "# You can adjust the number of neighbors (n_neighbors)\n",
        "knn_model = KNeighborsClassifier(n_neighbors=5) # You can experiment with different values for n_neighbors\n",
        "\n",
        "# Train the model\n",
        "knn_model.fit(X_train, y_train)\n",
        "\n",
        "# --- Adjust Classification Threshold ---\n",
        "# Get the probability of the positive class (class 1)\n",
        "# KNN predict_proba provides probabilities for each class\n",
        "y_pred_proba_knn = knn_model.predict_proba(X_test)[:, 1]\n",
        "\n",
        "# Define a custom threshold (e.g., 0.4 instead of the default 0.5)\n",
        "custom_threshold_knn = 0.4 # You can experiment with different values\n",
        "\n",
        "# Make predictions based on the custom threshold\n",
        "y_pred_threshold_knn = (y_pred_proba_knn >= custom_threshold_knn).astype(int)\n",
        "\n",
        "\n",
        "# Evaluate the model with the adjusted threshold\n",
        "print(f\"--- K-Nearest Neighbors (KNN) Evaluation with Threshold: {custom_threshold_knn} ---\")\n",
        "accuracy_knn_threshold = accuracy_score(y_test, y_pred_threshold_knn)\n",
        "print(f\"Accuracy: {accuracy_knn_threshold}\")\n",
        "\n",
        "print(\"\\nConfusion Matrix:\")\n",
        "print(confusion_matrix(y_test, y_pred_threshold_knn))\n",
        "\n",
        "print(\"\\nClassification Report:\")\n",
        "print(classification_report(y_test, y_pred_threshold_knn))\n",
        "\n",
        "# You can compare these results to the previous output (with the default threshold)\n",
        "# to see how the False Negatives have changed."
      ],
      "execution_count": null,
      "outputs": [
        {
          "output_type": "stream",
          "name": "stdout",
          "text": [
            "--- K-Nearest Neighbors (KNN) Evaluation with Threshold: 0.4 ---\n",
            "Accuracy: 0.8297101449275363\n",
            "\n",
            "Confusion Matrix:\n",
            "[[ 82  38]\n",
            " [  9 147]]\n",
            "\n",
            "Classification Report:\n",
            "              precision    recall  f1-score   support\n",
            "\n",
            "           0       0.90      0.68      0.78       120\n",
            "           1       0.79      0.94      0.86       156\n",
            "\n",
            "    accuracy                           0.83       276\n",
            "   macro avg       0.85      0.81      0.82       276\n",
            "weighted avg       0.84      0.83      0.83       276\n",
            "\n"
          ]
        }
      ]
    },
    {
      "cell_type": "code",
      "metadata": {
        "colab": {
          "base_uri": "https://localhost:8080/"
        },
        "id": "89bca558",
        "outputId": "205bd806-b852-49fd-802e-a701f291b888"
      },
      "source": [
        "# Import the Gaussian Naive Bayes Classifier\n",
        "from sklearn.naive_bayes import GaussianNB\n",
        "from sklearn.metrics import accuracy_score, classification_report, confusion_matrix\n",
        "import numpy as np # Import numpy\n",
        "\n",
        "# --- Gaussian Naive Bayes Model ---\n",
        "# Initialize the Gaussian Naive Bayes model\n",
        "gnb_model = GaussianNB()\n",
        "\n",
        "# Train the model\n",
        "gnb_model.fit(X_train, y_train)\n",
        "\n",
        "# --- Adjust Classification Threshold ---\n",
        "# Get the probability of the positive class (class 1)\n",
        "# GaussianNB predict_proba provides probabilities for each class\n",
        "y_pred_proba_gnb = gnb_model.predict_proba(X_test)[:, 1]\n",
        "\n",
        "# Define a custom threshold (e.g., 0.4 instead of the default 0.5)\n",
        "custom_threshold_gnb = 0.01 # You can experiment with different values\n",
        "\n",
        "# Make predictions based on the custom threshold\n",
        "y_pred_threshold_gnb = (y_pred_proba_gnb >= custom_threshold_gnb).astype(int)\n",
        "\n",
        "\n",
        "# Evaluate the model with the adjusted threshold\n",
        "print(f\"--- Gaussian Naive Bayes Evaluation with Threshold: {custom_threshold_gnb} ---\")\n",
        "accuracy_gnb_threshold = accuracy_score(y_test, y_pred_threshold_gnb)\n",
        "print(f\"Accuracy: {accuracy_gnb_threshold}\")\n",
        "\n",
        "print(\"\\nConfusion Matrix:\")\n",
        "print(confusion_matrix(y_test, y_pred_threshold_gnb))\n",
        "\n",
        "print(\"\\nClassification Report:\")\n",
        "print(classification_report(y_test, y_pred_threshold_gnb))\n",
        "\n",
        "# You can compare these results to the previous output (with the default threshold)\n",
        "# to see how the False Negatives have changed."
      ],
      "execution_count": null,
      "outputs": [
        {
          "output_type": "stream",
          "name": "stdout",
          "text": [
            "--- Gaussian Naive Bayes Evaluation with Threshold: 0.01 ---\n",
            "Accuracy: 0.8297101449275363\n",
            "\n",
            "Confusion Matrix:\n",
            "[[ 89  31]\n",
            " [ 16 140]]\n",
            "\n",
            "Classification Report:\n",
            "              precision    recall  f1-score   support\n",
            "\n",
            "           0       0.85      0.74      0.79       120\n",
            "           1       0.82      0.90      0.86       156\n",
            "\n",
            "    accuracy                           0.83       276\n",
            "   macro avg       0.83      0.82      0.82       276\n",
            "weighted avg       0.83      0.83      0.83       276\n",
            "\n"
          ]
        }
      ]
    }
  ]
}